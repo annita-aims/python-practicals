{
 "cells": [
  {
   "cell_type": "markdown",
   "metadata": {
    "id": "LPINvDFo9Nce"
   },
   "source": [
    "\n",
    "\n",
    "    \n",
    "#    <center> <b> <span style=\"color:orange;\" >  `Python for Scientific Computing and Software Engineering ` </span> </b></center>\n",
    "\n",
    "\n",
    "## <center> <b> <span style=\"color:orange;\"> An Initiation to Programming using Python (Init2Py) </span> </b></center>\n",
    "\n",
    "### <center> <b> <span style=\"color:blue;\"> Travaux Pratiques: Loops</span> </b></center>\n",
    "\n",
    "\n",
    "\n",
    "\n",
    "\n",
    "\n",
    "\n"
   ]
  },
  {
   "cell_type": "markdown",
   "metadata": {
    "id": "0vAKMUYl9Nc1"
   },
   "source": [
    "#### Exercice 0\n",
    ">On se propose de résoudre dans l'ensemble des entiers naturels l'inéquation $2n(n+1)<100$.\n",
    "En utilisant une boucle **While**, écris un programme qui renvoie les solutions entières de cette inéquation."
   ]
  },
  {
   "cell_type": "code",
   "execution_count": 3,
   "metadata": {
    "id": "tnXJLyHA9Nc4"
   },
   "outputs": [
    {
     "name": "stdout",
     "output_type": "stream",
     "text": [
      "0  est une solution\n",
      "1  est une solution\n",
      "2  est une solution\n",
      "3  est une solution\n",
      "4  est une solution\n",
      "5  est une solution\n",
      "6  est une solution\n"
     ]
    }
   ],
   "source": [
    "n=0\n",
    "while 2*n*(n+1) < 100:\n",
    "    print(n,\" est une solution\")\n",
    "    n=n+1"
   ]
  },
  {
   "cell_type": "markdown",
   "metadata": {
    "id": "USaieP9c9Nc5"
   },
   "source": [
    "#### Exercice 1\n",
    "> En utilisant une boucle **For**, écris un programme qui calcule la somme des 30 premiers entiers naturels non nuls."
   ]
  },
  {
   "cell_type": "code",
   "execution_count": 1,
   "metadata": {
    "id": "-a76WFyH9Nc7"
   },
   "outputs": [
    {
     "name": "stdout",
     "output_type": "stream",
     "text": [
      "465\n"
     ]
    }
   ],
   "source": [
    "S=0\n",
    "for i in range(1,31):\n",
    "    S=S+i\n",
    "print(S)\n",
    "    "
   ]
  },
  {
   "cell_type": "markdown",
   "metadata": {
    "id": "_070Czs09Nc8"
   },
   "source": [
    "#### Exercice 2\n",
    ">Refais l'exercice 1 en utilisant une boucle **While**."
   ]
  },
  {
   "cell_type": "code",
   "execution_count": 2,
   "metadata": {
    "id": "m7dg2bhR9Nc9"
   },
   "outputs": [
    {
     "name": "stdout",
     "output_type": "stream",
     "text": [
      "465\n"
     ]
    }
   ],
   "source": [
    "S=0\n",
    "i=1\n",
    "while i<=30:\n",
    "    S=S+i\n",
    "    i=i+1\n",
    "print(S)"
   ]
  },
  {
   "cell_type": "markdown",
   "metadata": {
    "id": "Hg1vBggc9Nc_"
   },
   "source": [
    "#### Exercice 3\n",
    ">En utilisant une boucle **For**, écris un programme qui calcule le produit des 9 premiers entiers naturels non nuls."
   ]
  },
  {
   "cell_type": "code",
   "execution_count": 2,
   "metadata": {
    "id": "h0TkyvqS9NdB"
   },
   "outputs": [
    {
     "name": "stdout",
     "output_type": "stream",
     "text": [
      "Le produit donne:  362880\n"
     ]
    }
   ],
   "source": [
    "p=1\n",
    "for i in range(1,10):\n",
    "    p=p*i\n",
    "print(\"Le produit donne: \",p)"
   ]
  },
  {
   "cell_type": "code",
   "execution_count": 2,
   "metadata": {},
   "outputs": [
    {
     "name": "stdout",
     "output_type": "stream",
     "text": [
      "362880\n"
     ]
    }
   ],
   "source": [
    "i=1\n",
    "p=1\n",
    "while i<10:\n",
    "    p=p*i\n",
    "    i=i+1\n",
    "    \n",
    "print(p)"
   ]
  },
  {
   "cell_type": "markdown",
   "metadata": {
    "id": "a2iZm5y_9NdD"
   },
   "source": [
    "#### Exercice 4\n",
    "> Refais l'exercice 3 en utilisant une boucle **While**."
   ]
  },
  {
   "cell_type": "markdown",
   "metadata": {
    "id": "rb3k7Bve9NdE"
   },
   "source": [
    "#### Exercice 5 \n",
    ">Écris un programme qui demande à l'utilisateur de saisir un nombre n et qui affiche tous les nombres pairs de $1$ à $n$ en utilisant la boucle **For**."
   ]
  },
  {
   "cell_type": "code",
   "execution_count": 2,
   "metadata": {
    "id": "ibXs9RCB9NdF"
   },
   "outputs": [
    {
     "name": "stdout",
     "output_type": "stream",
     "text": [
      "Donner un entier:10\n",
      "2  est pair\n",
      "4  est pair\n",
      "6  est pair\n",
      "8  est pair\n"
     ]
    }
   ],
   "source": [
    "n=int(input(\"Donner un entier:\"))\n",
    "for i in range(1,n):\n",
    "    if i%2==0:\n",
    "        print(i,\" est pair\")"
   ]
  },
  {
   "cell_type": "markdown",
   "metadata": {
    "id": "HPC3bfyE9NdG"
   },
   "source": [
    "#### Exercice 6\n",
    ">Refais l'exercice 5 en utilisant la boucle **While**."
   ]
  },
  {
   "cell_type": "code",
   "execution_count": 3,
   "metadata": {
    "id": "dRuTyo3m9NdH"
   },
   "outputs": [
    {
     "name": "stdout",
     "output_type": "stream",
     "text": [
      "Donner un entier:100\n",
      "2  est pair\n",
      "4  est pair\n",
      "6  est pair\n",
      "8  est pair\n",
      "10  est pair\n",
      "12  est pair\n",
      "14  est pair\n",
      "16  est pair\n",
      "18  est pair\n",
      "20  est pair\n",
      "22  est pair\n",
      "24  est pair\n",
      "26  est pair\n",
      "28  est pair\n",
      "30  est pair\n",
      "32  est pair\n",
      "34  est pair\n",
      "36  est pair\n",
      "38  est pair\n",
      "40  est pair\n",
      "42  est pair\n",
      "44  est pair\n",
      "46  est pair\n",
      "48  est pair\n",
      "50  est pair\n",
      "52  est pair\n",
      "54  est pair\n",
      "56  est pair\n",
      "58  est pair\n",
      "60  est pair\n",
      "62  est pair\n",
      "64  est pair\n",
      "66  est pair\n",
      "68  est pair\n",
      "70  est pair\n",
      "72  est pair\n",
      "74  est pair\n",
      "76  est pair\n",
      "78  est pair\n",
      "80  est pair\n",
      "82  est pair\n",
      "84  est pair\n",
      "86  est pair\n",
      "88  est pair\n",
      "90  est pair\n",
      "92  est pair\n",
      "94  est pair\n",
      "96  est pair\n",
      "98  est pair\n"
     ]
    }
   ],
   "source": [
    "n=int(input(\"Donner un entier:\"))\n",
    "i=1\n",
    "while i<n:\n",
    "    if i%2==0:\n",
    "        print(i,\" est pair\")\n",
    "    i=i+1\n",
    "    \n"
   ]
  },
  {
   "cell_type": "markdown",
   "metadata": {
    "id": "6fNPIIdQ9NdH"
   },
   "source": [
    "### Exercice 7\n",
    ">Écris un programme qui demande à l'utilisateur de saisir un nombre n et qui affiche tous les nombres impairs de 1 à n en utilisant la boucle **For**."
   ]
  },
  {
   "cell_type": "code",
   "execution_count": 5,
   "metadata": {
    "id": "LuVEv9Lc9NdI"
   },
   "outputs": [
    {
     "name": "stdout",
     "output_type": "stream",
     "text": [
      "Donner un entier:5\n",
      "1  est impair\n",
      "3  est impair\n"
     ]
    }
   ],
   "source": [
    "n=int(input(\"Donner un entier:\"))\n",
    "for i in range(1,n):\n",
    "    if i%2!=0:\n",
    "        print(i,\" est impair\")"
   ]
  },
  {
   "cell_type": "markdown",
   "metadata": {
    "id": "HIlapsJ89NdK"
   },
   "source": [
    "#### Exercice 8\n",
    ">Refais l'exercice 7 en utilisant la boucle **While**.\n",
    "\n"
   ]
  },
  {
   "cell_type": "code",
   "execution_count": 6,
   "metadata": {
    "id": "Igvjeb2E9NdM"
   },
   "outputs": [
    {
     "name": "stdout",
     "output_type": "stream",
     "text": [
      "Donner un entier:9\n",
      "1  est impair\n",
      "3  est impair\n",
      "5  est impair\n",
      "7  est impair\n"
     ]
    }
   ],
   "source": [
    "n=int(input(\"Donner un entier:\"))\n",
    "i=1\n",
    "while i<n:\n",
    "    if i%2!=0:\n",
    "        print(i,\" est impair\")\n",
    "    i=i+1\n",
    "    "
   ]
  },
  {
   "cell_type": "markdown",
   "metadata": {
    "id": "KOYLg_e79NdU"
   },
   "source": [
    "#### Exercice 9\n",
    ">Écris un programme qui demande à l'utilisateur de saisir un nombre n et qui affiche sa table de multiplication  en utilisant la boucle **For**."
   ]
  },
  {
   "cell_type": "code",
   "execution_count": 8,
   "metadata": {
    "id": "BvOU9oLw9NdU"
   },
   "outputs": [
    {
     "name": "stdout",
     "output_type": "stream",
     "text": [
      "Donner un entier:10\n",
      "La table de multiplication de  10  est:\n",
      "10 * 1 = 10\n",
      "10 * 2 = 20\n",
      "10 * 3 = 30\n",
      "10 * 4 = 40\n",
      "10 * 5 = 50\n",
      "10 * 6 = 60\n",
      "10 * 7 = 70\n",
      "10 * 8 = 80\n",
      "10 * 9 = 90\n",
      "10 * 10 = 100\n"
     ]
    }
   ],
   "source": [
    "n=int(input(\"Donner un entier:\"))\n",
    "print(\"La table de multiplication de \",n, \" est:\")\n",
    "for i in range(1,11):\n",
    "    print(n,\"*\",i,\"=\",n*i)"
   ]
  },
  {
   "cell_type": "markdown",
   "metadata": {
    "id": "Ukzy78L09NdV"
   },
   "source": [
    "#### Exercice 10\n",
    ">Refais l'exercice 9 en utilisant la boucle **While**."
   ]
  },
  {
   "cell_type": "code",
   "execution_count": 11,
   "metadata": {
    "id": "fRJ3oufC9NdV"
   },
   "outputs": [
    {
     "name": "stdout",
     "output_type": "stream",
     "text": [
      "Donner un entier:10\n",
      "10 * 1 = 10\n",
      "10 * 2 = 20\n",
      "10 * 3 = 30\n",
      "10 * 4 = 40\n",
      "10 * 5 = 50\n",
      "10 * 6 = 60\n",
      "10 * 7 = 70\n",
      "10 * 8 = 80\n",
      "10 * 9 = 90\n",
      "10 * 10 = 100\n"
     ]
    }
   ],
   "source": [
    "n=int(input(\"Donner un entier:\"))\n",
    "i=1\n",
    "while i<=10:\n",
    "    print(n,\"*\",i,\"=\",n*i)\n",
    "    i=i+1"
   ]
  },
  {
   "cell_type": "markdown",
   "metadata": {
    "id": "AQW435Hq9NdW"
   },
   "source": [
    "#### Exercice 11\n",
    ">Écris un programme qui demande à l'utilisateur d'entrer un nombre et de trouver tous ses diviseurs  en utilisant la boucle **For**."
   ]
  },
  {
   "cell_type": "code",
   "execution_count": 5,
   "metadata": {
    "id": "Zjs_NfT89NdX"
   },
   "outputs": [
    {
     "name": "stdout",
     "output_type": "stream",
     "text": [
      "Donner un entier:10\n",
      "1  est un diviseur de  10\n",
      "2  est un diviseur de  10\n",
      "5  est un diviseur de  10\n"
     ]
    }
   ],
   "source": [
    "n=int(input(\"Donner un entier:\"))\n",
    "for i in range(1,n):\n",
    "    if n%i==0:\n",
    "        print(i,' est un diviseur de ',n)"
   ]
  },
  {
   "cell_type": "markdown",
   "metadata": {
    "id": "pGp6labk9NdX"
   },
   "source": [
    "#### Exercice 12\n",
    ">Écris un programme qui demande à l'utilisateur d'entrer un entier naturel n et de trouver tous sa factorielle n!  en utilisant la boucle **For**. On rappelle que $n!=n*(n-1)*(n-2)...3*2*1$."
   ]
  },
  {
   "cell_type": "code",
   "execution_count": 10,
   "metadata": {
    "id": "iDw3TKDU9NdX"
   },
   "outputs": [
    {
     "name": "stdout",
     "output_type": "stream",
     "text": [
      "Donner un entier:3\n",
      "Factoriel  3  est egal a  6\n"
     ]
    }
   ],
   "source": [
    "n=int(input(\"Donner un entier:\"))\n",
    "f=1\n",
    "for i in range(1,n+1):\n",
    "    f=f*i\n",
    "print('Factoriel ',n,' est egal a ',f)"
   ]
  },
  {
   "cell_type": "markdown",
   "metadata": {
    "id": "eyKh1oTo9NdY"
   },
   "source": [
    "#### Exercice 13\n",
    ">Écris un programme qui demande à l'utilisateur d'entrer deux entiers naturels (plus petits que 15) et de trouver leur plus petit commun multiple utilisant la boucle **For**."
   ]
  },
  {
   "cell_type": "code",
   "execution_count": 3,
   "metadata": {
    "id": "ombGnLVQ9NdY"
   },
   "outputs": [
    {
     "name": "stdout",
     "output_type": "stream",
     "text": [
      "Donner un entier plus petit que 15:3\n",
      "Donner un autre entier:16\n",
      "Je vous ai demande des entuiers inferieurs a 15\n"
     ]
    }
   ],
   "source": [
    "import math\n",
    "n=int(input(\"Donner un entier plus petit que 15:\"))\n",
    "m=int(input(\"Donner un autre entier:\"))\n",
    "if n<=15 and m<=15:\n",
    "    ppcm=abs(n*m)/ math.gcd(n,m)\n",
    "    print(ppcm)\n",
    "else:\n",
    "    print(\"Je vous ai demande des entuiers inferieurs a 15\")\n",
    "\n"
   ]
  },
  {
   "cell_type": "markdown",
   "metadata": {
    "id": "j4zO7-ak9NdZ"
   },
   "source": [
    "#### Exercice 14\n",
    ">Écris un programme pour afficher la série de Fibonacci jusqu'à n termes en utilisant une boucle."
   ]
  },
  {
   "cell_type": "code",
   "execution_count": 4,
   "metadata": {},
   "outputs": [
    {
     "name": "stdout",
     "output_type": "stream",
     "text": [
      "Entrez un entier: 5\n",
      "L'affichage de la suite de fibonacci:\n",
      "0 \n",
      " 1\n",
      "1\n",
      "2\n",
      "3\n",
      "5\n"
     ]
    }
   ],
   "source": [
    "n= int(input(\"Entrez un entier: \"))\n",
    "f0=0\n",
    "f1=1\n",
    "print(\"L'affichage de la suite de fibonacci:\")\n",
    "print(f0,'\\n',f1)\n",
    "i=2\n",
    "while i<=n:\n",
    "    f=f0+f1\n",
    "    print(f)\n",
    "    f0=f1\n",
    "    f1=f\n",
    "    i=i+1"
   ]
  },
  {
   "cell_type": "code",
   "execution_count": 2,
   "metadata": {
    "id": "5UknLOdY9NdZ"
   },
   "outputs": [
    {
     "name": "stdout",
     "output_type": "stream",
     "text": [
      "Entrez un nombre: 5\n",
      "\n",
      " la suite fibonacci est :\n",
      "0 , 1, 1, 2, 3, "
     ]
    }
   ],
   "source": []
  },
  {
   "cell_type": "markdown",
   "metadata": {
    "id": "_RBVFZdl9Nda"
   },
   "source": [
    "#### Exercice 15\n",
    ">Écris, en utilisant une boucle **For**, un programme pour afficher 5 fois de suite le message \"Python est un très bon langage de programmation\"."
   ]
  },
  {
   "cell_type": "code",
   "execution_count": 15,
   "metadata": {
    "id": "IA5dPbgd9Nda"
   },
   "outputs": [
    {
     "name": "stdout",
     "output_type": "stream",
     "text": [
      "Python est un très bon langage de programmation.  Python est un très bon langage de programmation.  Python est un très bon langage de programmation.  Python est un très bon langage de programmation.  Python est un très bon langage de programmation.  \n"
     ]
    }
   ],
   "source": [
    "n=\"Python est un très bon langage de programmation.  \"\n",
    "print(5*n)"
   ]
  },
  {
   "cell_type": "markdown",
   "metadata": {
    "id": "VUgurSg59Nda"
   },
   "source": [
    "#### Exercice 16\n",
    ">Écris, en utilisant une boucle **While**, un programme pour afficher 7 fois de suite le message \"A cette allure je finirai par tout abandonner pour la programmation\"."
   ]
  },
  {
   "cell_type": "code",
   "execution_count": 16,
   "metadata": {
    "id": "TgE99bdh9Ndb"
   },
   "outputs": [
    {
     "name": "stdout",
     "output_type": "stream",
     "text": [
      "A cette allure je finirai par tout abandonner pour la programmation\n",
      "A cette allure je finirai par tout abandonner pour la programmation\n",
      "A cette allure je finirai par tout abandonner pour la programmation\n",
      "A cette allure je finirai par tout abandonner pour la programmation\n",
      "A cette allure je finirai par tout abandonner pour la programmation\n",
      "A cette allure je finirai par tout abandonner pour la programmation\n",
      "A cette allure je finirai par tout abandonner pour la programmation\n"
     ]
    }
   ],
   "source": [
    "message=\"A cette allure je finirai par tout abandonner pour la programmation\"\n",
    "n=1\n",
    "while n<=7:\n",
    "    print(message)\n",
    "    n=n+1\n",
    "    \n"
   ]
  },
  {
   "cell_type": "markdown",
   "metadata": {
    "id": "DVgTXQRX9Ndb"
   },
   "source": [
    "#### Exercice 17\n",
    ">Écris, en utilisant une boucle **For**, un programme qui compte à l'envers de 10 à 0 puis qui affiche le message \"Partez\".\n"
   ]
  },
  {
   "cell_type": "code",
   "execution_count": 1,
   "metadata": {
    "id": "w4L4KV6C9Ndc"
   },
   "outputs": [
    {
     "name": "stdout",
     "output_type": "stream",
     "text": [
      "10\n",
      "9\n",
      "8\n",
      "7\n",
      "6\n",
      "5\n",
      "4\n",
      "3\n",
      "2\n",
      "1\n",
      "0\n",
      "PARTEZ\n"
     ]
    }
   ],
   "source": [
    "for i in reversed((range(11))):\n",
    "    print(i)\n",
    "print(\"PARTEZ\")"
   ]
  },
  {
   "cell_type": "markdown",
   "metadata": {
    "id": "raJAaAd29Ndc"
   },
   "source": [
    "#### Exercice 18\n",
    ">Écris, en utilisant une boucle **For**, un programme qui affiche chaque élément d'une chaine de caractère."
   ]
  },
  {
   "cell_type": "code",
   "execution_count": 21,
   "metadata": {
    "id": "wZv1gX4c9Ndd"
   },
   "outputs": [
    {
     "name": "stdout",
     "output_type": "stream",
     "text": [
      "A\n",
      "n\n",
      "n\n",
      "a\n",
      " \n",
      "e\n",
      "s\n",
      "t\n",
      " \n",
      "e\n",
      "t\n",
      "u\n",
      "d\n",
      "i\n",
      "a\n",
      "n\n",
      "t\n",
      "e\n",
      " \n",
      "a\n",
      " \n",
      "a\n",
      "i\n",
      "m\n",
      "s\n",
      " \n",
      "S\n",
      "e\n",
      "n\n",
      "e\n",
      "g\n",
      "a\n",
      "l\n"
     ]
    }
   ],
   "source": [
    "chaine=\"Anna est etudiante a aims Senegal\"\n",
    "for i in chaine:\n",
    "    print(i)"
   ]
  },
  {
   "cell_type": "markdown",
   "metadata": {
    "id": "095_Dtoc9Ndf"
   },
   "source": [
    "#### Exercice 19\n",
    ">Écris, en utilisant une boucle **For**, un programme qui compte à l'envers de 10 à 0 puis qui affiche le message \"Partez\"."
   ]
  },
  {
   "cell_type": "code",
   "execution_count": 26,
   "metadata": {
    "id": "MOV4pZzn9Ndg"
   },
   "outputs": [
    {
     "name": "stdout",
     "output_type": "stream",
     "text": [
      "10\n",
      "9\n",
      "8\n",
      "7\n",
      "6\n",
      "5\n",
      "4\n",
      "3\n",
      "2\n",
      "1\n",
      "0\n",
      "PARTEZ\n"
     ]
    }
   ],
   "source": [
    "for i in reversed((range(11))):\n",
    "    print(i)\n",
    "print(\"PARTEZ\")"
   ]
  },
  {
   "cell_type": "markdown",
   "metadata": {
    "id": "5sUU7dgJ9Ndh"
   },
   "source": [
    "<center> <b> <span style=\"color:orange;\"> 🎉 FÉLICITATIONS ! / CONGRATULATIONS! 🎉 </span> </b></center>"
   ]
  }
 ],
 "metadata": {
  "colab": {
   "name": "Exercices_03_Boucles.ipynb",
   "provenance": []
  },
  "kernelspec": {
   "display_name": "Python 3",
   "language": "python",
   "name": "python3"
  },
  "language_info": {
   "codemirror_mode": {
    "name": "ipython",
    "version": 3
   },
   "file_extension": ".py",
   "mimetype": "text/x-python",
   "name": "python",
   "nbconvert_exporter": "python",
   "pygments_lexer": "ipython3",
   "version": "3.6.9"
  }
 },
 "nbformat": 4,
 "nbformat_minor": 1
}
