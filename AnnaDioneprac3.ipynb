{
 "cells": [
  {
   "cell_type": "markdown",
   "metadata": {
    "id": "12_fdbLn8p4A"
   },
   "source": [
    "\n",
    "\n",
    "    \n",
    "#    <center> <b> <span style=\"color:orange;\" >  `Python for Scientific Computing and Software Engineering ` </span> </b></center>\n",
    "\n",
    "\n",
    "## <center> <b> <span style=\"color:orange;\"> An Initiation to Programming using Python (Init2Py) </span> </b></center>\n",
    "\n",
    "### <center> <b> <span style=\"color:blue;\"> Travaux Pratiques: Objets itérables ou conteneurs</span> </b></center>\n"
   ]
  },
  {
   "cell_type": "markdown",
   "metadata": {
    "id": "E_ZB23H68p4D"
   },
   "source": [
    "###  <center> <b> <span style=\"color:blue;\"> Listes </span> </b></center>"
   ]
  },
  {
   "cell_type": "code",
   "execution_count": null,
   "metadata": {
    "id": "TAzYC_Ev8p4F"
   },
   "outputs": [],
   "source": []
  },
  {
   "cell_type": "markdown",
   "metadata": {
    "id": "H0cIcjGk8p4G"
   },
   "source": [
    "#### **Exercice 00:** \n",
    ">**Déclarer une liste vide.**"
   ]
  },
  {
   "cell_type": "code",
   "execution_count": null,
   "metadata": {
    "id": "45QEMilz8p4I"
   },
   "outputs": [],
   "source": [
    "L=[]"
   ]
  },
  {
   "cell_type": "markdown",
   "metadata": {
    "id": "zZ0XnwpB8p4J"
   },
   "source": [
    "#### **Exercice 01:** \n",
    ">**Déclarer une liste de plus de 5 éléments.**"
   ]
  },
  {
   "cell_type": "code",
   "execution_count": 1,
   "metadata": {
    "id": "HV32hLfA8p4L"
   },
   "outputs": [
    {
     "data": {
      "text/plain": [
       "['anna', 'Dione', 'joal', 25, 1.79]"
      ]
     },
     "execution_count": 1,
     "metadata": {},
     "output_type": "execute_result"
    }
   ],
   "source": [
    "L=[\"anna\", 'Dione', 'joal', 25, 1.79]\n",
    "L"
   ]
  },
  {
   "cell_type": "markdown",
   "metadata": {
    "id": "tJpy6kNz8p4M"
   },
   "source": [
    "#### **Exercice 02:** \n",
    ">**Trouver la longueur de votre liste.**"
   ]
  },
  {
   "cell_type": "code",
   "execution_count": 2,
   "metadata": {
    "id": "627A_RNw8p4O"
   },
   "outputs": [
    {
     "name": "stdout",
     "output_type": "stream",
     "text": [
      "5\n"
     ]
    }
   ],
   "source": [
    "print(len(L))"
   ]
  },
  {
   "cell_type": "markdown",
   "metadata": {
    "id": "unFrwT5t8p4Q"
   },
   "source": [
    "#### **Exercice 03:** \n",
    ">**Obtenez le premier élément, l'élément central et le dernier élément de la liste.**\n",
    "\n"
   ]
  },
  {
   "cell_type": "code",
   "execution_count": 5,
   "metadata": {
    "id": "MUuc1gaQ8p4R"
   },
   "outputs": [
    {
     "name": "stdout",
     "output_type": "stream",
     "text": [
      "anna joal 1.79\n"
     ]
    }
   ],
   "source": [
    "print(L[0], L[2], L[4])"
   ]
  },
  {
   "cell_type": "markdown",
   "metadata": {
    "id": "4Rqp8q0L8p4R"
   },
   "source": [
    "#### **Exercice 04:** \n",
    ">**Déclarez une liste appelée mixed_data_types, mettez votre (nom, âge, taille, état civil, adresse).**"
   ]
  },
  {
   "cell_type": "code",
   "execution_count": null,
   "metadata": {
    "id": "EoZPW2UH8p4S"
   },
   "outputs": [],
   "source": [
    "mixed_data_types['Anna', 25, 1.79, 'celibataire', 'joal']"
   ]
  },
  {
   "cell_type": "markdown",
   "metadata": {
    "id": "OPYSNV1l8p4T"
   },
   "source": [
    "#### **Exercice 05:** \n",
    "\n",
    "    1. Déclarez une variable liste appelée it_companies et attribuez les valeurs initiales Facebook, Google, Microsoft, Apple, IBM, Oracle et Amazon.\n",
    "\n",
    "    2. Imprimez la liste à l'aide de print()\n",
    "\n",
    "    3. Imprimez le nombre d'entreprises dans la liste\n",
    "\n",
    "    4. Imprimez la première, la moyenne et la dernière entreprise\n",
    "\n",
    "    5. Imprimez la liste après avoir modifié l'une des entreprises.\n",
    "\n",
    "    6. Ajout d'une entreprise informatique à it_companies\n",
    "\n",
    "    7. Insérer une entreprise informatique au milieu de la liste des entreprises\n",
    "\n",
    "    8. Changez le nom d'une des it_companies en majuscule (sauf IBM !)\n",
    "\n",
    "    9. Joignez les it_companies avec une chaîne '# ; '.\n",
    "\n",
    "    10. Vérifier si une certaine entreprise existe dans la liste it_companies.\n",
    "\n",
    "    11. Trier la liste en utilisant la méthode sort()\n",
    "\n",
    "    12. Inversez la liste par ordre décroissant à l'aide de la méthode reverse().\n",
    "\n",
    "    13. Supprimez les 3 premières entreprises de la liste.\n",
    "\n",
    "    14. Supprimez les 3 dernières entreprises de la liste.\n",
    "\n",
    "    15. Supprimez la ou les entreprises informatiques du milieu de la liste.\n",
    "\n",
    "    16. Supprimez la première entreprise informatique de la liste\n",
    "\n",
    "    17. Supprimez la ou les entreprises informatiques du milieu de la liste.\n",
    "\n",
    "    18. Retirer la dernière entreprise informatique de la liste\n",
    "\n",
    "    19. Supprimez toutes les entreprises informatiques de la liste\n",
    "\n",
    "    20. Détruire la liste des entreprises informatiques"
   ]
  },
  {
   "cell_type": "code",
   "execution_count": 32,
   "metadata": {
    "id": "4M_XODba8p4V"
   },
   "outputs": [
    {
     "name": "stdout",
     "output_type": "stream",
     "text": [
      "['Facebook', 'Google', 'Microsoft', 'Apple', 'IBM', 'Oracle ', 'Amazon']\n",
      "\n",
      "la longueur de la liste: 7\n",
      "Facebook Apple Amazon\n",
      "\n",
      "Avec google en majuscule: ['Facebook', 'GOOGLE', 'Microsoft', 'informatique1', 'Apple', 'IBM', 'Oracle ', 'Amazon', 'informatique']\n",
      "\n",
      "Joignons les it_companies avec une chaîne '# ; ': '\n",
      "' Facebook# ; GOOGLE# ; Microsoft# ; informatique1# ; Apple# ; IBM# ; Oracle # ; Amazon# ; informatique\n",
      "\n",
      "La liste triee est: ['Amazon', 'Apple', 'Facebook', 'GOOGLE', 'IBM', 'Microsoft', 'Oracle ', 'informatique', 'informatique1']\n",
      "\n",
      "La liste inversee est: '\n",
      "' ['informatique1', 'informatique', 'Oracle ', 'Microsoft', 'IBM', 'GOOGLE', 'Facebook', 'Apple', 'Amazon']\n",
      "Apres la suppression des 3 premières entreprises de la liste: ['informatique', 'Microsoft', 'GOOGLE', 'Facebook', 'Apple', 'Amazon']\n",
      "Apres des 3 dernières entreprises de la liste ['informatique', 'Microsoft', 'GOOGLE', 'Amazon']\n"
     ]
    }
   ],
   "source": [
    "it_companies=['Facebook', 'Google','Microsoft', 'Apple', 'IBM', 'Oracle ', 'Amazon']\n",
    "print(it_companies)\n",
    "l=len(it_companies)\n",
    "print('\\n'\"la longueur de la liste:\",l)\n",
    "print(it_companies[0],it_companies[l//2],it_companies[l-1])\n",
    "it_companies.append('informatique')\n",
    "it_companies.insert(l//2,'informatique1')\n",
    "it_companies\n",
    "it_companies[1]=it_companies[1].upper()\n",
    "print('\\n'\"Avec google en majuscule:\",it_companies)\n",
    "print('\\n'\"Joignons les it_companies avec une chaîne '# ; ': '\\n'\",'# ; '.join(it_companies))\n",
    "'anna' in it_companies\n",
    "it_companies.sort()\n",
    "print('\\n'\"La liste triee est:\",it_companies)\n",
    "it_companies.reverse()\n",
    "print('\\n'\"La liste inversee est: '\\n'\",it_companies)\n",
    "it_companies.pop(0)\n",
    "it_companies.pop(1)\n",
    "it_companies.pop(2)\n",
    "print(\"Apres la suppression des 3 premières entreprises de la liste:\",it_companies)\n",
    "del it_companies[-3:-1]\n",
    "print('Apres suppression des 3 dernières entreprises de la liste',it_companies)\n",
    "del it_companies[]\n",
    "print(\"Supprimez la ou les entreprises informatiques du milieu de la liste.\n",
    "\")"
   ]
  },
  {
   "cell_type": "code",
   "execution_count": 12,
   "metadata": {},
   "outputs": [
    {
     "name": "stdout",
     "output_type": "stream",
     "text": [
      "['  f', ' appl', ' f', 'Apple', 'a', 'c', 'g']\n"
     ]
    }
   ],
   "source": [
    "x = [\"a\", \" appl\", \"g\", \"c\", \"Apple\", \"  f\", \" f\"]\n",
    "x.sort()\n",
    "\n",
    "print(x)"
   ]
  },
  {
   "cell_type": "markdown",
   "metadata": {
    "id": "AfauolZA8p4V"
   },
   "source": [
    "#### **Exercice 06:** \n",
    "**Joindre les listes suivantes :**\n",
    "     \n",
    "         front_end = ['HTML', 'CSS', 'JS', 'React', 'Redux']  \n",
    "         back_end = ['Node','Express', 'MongoDB']"
   ]
  },
  {
   "cell_type": "code",
   "execution_count": 35,
   "metadata": {
    "id": "6V8OXDSW8p4W"
   },
   "outputs": [
    {
     "name": "stdout",
     "output_type": "stream",
     "text": [
      "back_end join a back_end:\n"
     ]
    },
    {
     "data": {
      "text/plain": [
       "['HTML', 'CSS', 'JS', 'React', 'Redux', 'Node', 'Express', 'MongoDB']"
      ]
     },
     "execution_count": 35,
     "metadata": {},
     "output_type": "execute_result"
    }
   ],
   "source": [
    "front_end = ['HTML', 'CSS', 'JS', 'React', 'Redux']  \n",
    "back_end = ['Node','Express', 'MongoDB']\n",
    "print(\"back_end join a back_end:\")\n",
    "front_end+back_end"
   ]
  },
  {
   "cell_type": "markdown",
   "metadata": {
    "id": "kASFM1bh8p4X"
   },
   "source": [
    "#### **Exercice 07:** \n",
    "Voici une liste de 10 âges d'étudiants :\n",
    "\n",
    "         ages = [19, 22, 19, 24, 20, 25, 26, 24, 25, 24]\n",
    "         \n",
    " \n",
    "    1. Trier la liste et trouver l'âge minimum et maximum.\n",
    "    2. Ajoutez à nouveau l'âge minimum et l'âge maximum à la liste.\n",
    "    3. Trouvez l'âge médian (un élément du milieu ou deux éléments du milieu divisés par deux).\n",
    "    4. Trouvez l'âge moyen (somme de tous les éléments divisée par leur nombre).\n",
    "    4. Trouver l'intervalle des âges (max moins min)\n",
    "    5. Comparez les valeurs de (min - moyenne) et (max - moyenne) en utilisant la méthode abs().\n",
    "        "
   ]
  },
  {
   "cell_type": "code",
   "execution_count": 22,
   "metadata": {
    "id": "TWTGGaOO8p4Z"
   },
   "outputs": [
    {
     "name": "stdout",
     "output_type": "stream",
     "text": [
      "Le maximun est:  26\n",
      "Le minimum de ages est:  19\n",
      "[19, 22, 19, 24, 20, 25, 26, 24, 25, 24, 26, 19]\n",
      "12\n",
      "L'age median est  25.5\n",
      "La moyenne des ages est: 22.75\n",
      "L'intervalle min, max est: [19, 26]\n",
      "-3.75  est superieur a  3.25  en valeur absolue\n"
     ]
    }
   ],
   "source": [
    "ages = [19, 22, 19, 24, 20, 25, 26, 24, 25, 24]\n",
    "maxx=max(ages)\n",
    "minn=min(ages)\n",
    "print(\"Le maximun est: \",maxx)\n",
    "print(\"Le minimum de ages est: \",minn)\n",
    "ages.append(26)\n",
    "ages.append(19)\n",
    "print(ages)\n",
    "l= len(ages)\n",
    "print(l)\n",
    "if l%2==0:\n",
    "    am=(ages[(l//2)-1]+ ages[(l//2)])/2\n",
    "    print(\"L'age median est \",am)\n",
    "if l%2!=0:\n",
    "    amm=ages[(l//2)]\n",
    "    print(\"L'age median est \",amm)\n",
    "s=0\n",
    "for i in ages:\n",
    "    s=s+i\n",
    "amoy=s/l\n",
    "print(\"La moyenne des ages est:\",amoy)\n",
    "intervalle=[minn,maxx]\n",
    "print(\"L'intervalle min, max est:\",intervalle)\n",
    "n=minn-amoy\n",
    "m=maxx-amoy\n",
    "if abs(n)< abs(m):\n",
    "    print(n,\" est inferieur a \",m,\" en valeur absolue\")\n",
    "else:\n",
    "    print(n,\" est superieur a \",m,\" en valeur absolue\")"
   ]
  },
  {
   "cell_type": "code",
   "execution_count": null,
   "metadata": {
    "id": "TEtbXitA8p4h"
   },
   "outputs": [],
   "source": []
  },
  {
   "cell_type": "markdown",
   "metadata": {
    "id": "bF7FI4iT8p4i"
   },
   "source": [
    "###  <center> <b> <span style=\"color:blue;\"> Dictionnaires </span> </b></center>"
   ]
  },
  {
   "cell_type": "markdown",
   "metadata": {
    "id": "VzcSJMf18p4j"
   },
   "source": [
    "\n",
    "1. Créer un dictionnaire vide appelé `dog`\n",
    "2. Ajoute le nom, la couleur, la race, les pattes, l'âge au dictionnaire dog.\n",
    "3. Créez un dictionnaire student et ajoutez le prénom, le nom, le sexe, l'âge, l'état civil, les compétences, le pays, la ville et l'adresse comme clés pour le dictionnaire.\n",
    "4. Obtenez la longueur du dictionnaire student\n",
    "5. Récupérez la valeur des compétences et vérifiez le type de données, il doit s'agir d'une liste.\n",
    "6. Modifiez les valeurs des compétences en ajoutant une ou deux compétences.\n",
    "7. Obtenez les clés du dictionnaire sous forme de liste\n",
    "8. Obtenir les valeurs du dictionnaire sous forme de liste\n",
    "9. Transformer le dictionnaire en une liste de tuples en utilisant la méthode items()\n",
    "10. Supprimer un des éléments du dictionnaire\n",
    "11. Supprimer un des dictionnaires\n"
   ]
  },
  {
   "cell_type": "code",
   "execution_count": 39,
   "metadata": {
    "id": "LJ6DfBUh8p4k"
   },
   "outputs": [
    {
     "name": "stdout",
     "output_type": "stream",
     "text": [
      "\n",
      "Le dictionnaire du dog est: {'nom': 'Aliana', 'couleur': 'noire', 'race': 'bulldog', 'pattes': 'pattes', 'age': [10]}\n",
      "\n",
      "Le dictionnaire du student est: {'prenom': 'Anna', 'nom': 'DIONE', 'sexe': 'feminin', 'age': 25, 'etat civil': 'celibataire', 'competences': 'mathematecienne&informaticienne', 'pays': 'SENRGAL', 'ville': 'Joal', 'adresse': 'Santhie3'}\n",
      "\n",
      "La longueur du dictionnaire student est: 9\n",
      "\n",
      "La valeur de competences est: mathematecienne&informaticienne\n",
      "vendeuse\n",
      "Les cles du dictionnaire sont: ['prenom', 'nom', 'sexe', 'age', 'etat civil', 'competences', 'pays', 'ville', 'adresse']\n",
      "\n",
      "les valeurs du dictionnaire sous forme de liste: ['Anna', 'DIONE', 'feminin', 25, 'celibataire', 'vendeuse', 'SENRGAL', 'Joal', 'Santhie3']\n",
      "\n",
      "Apres suppression de age student =[ {'prenom': 'Anna', 'nom': 'DIONE', 'sexe': 'feminin', 'etat civil': 'celibataire', 'competences': 'vendeuse', 'pays': 'SENRGAL', 'ville': 'Joal', 'adresse': 'Santhie3'} ]\n",
      "\n",
      "dog n'existe plus\n"
     ]
    }
   ],
   "source": [
    "dog={}\n",
    "dog['nom']='Aliana'\n",
    "dog['couleur']='noire'\n",
    "dog['race']='bulldog'\n",
    "dog['pattes']='pattes'\n",
    "dog['age']=[10]\n",
    "print('\\n'\"Le dictionnaire du dog est:\",dog)\n",
    "student={}\n",
    "student['prenom']='Anna'\n",
    "student['nom']='DIONE'\n",
    "student['sexe']='feminin'\n",
    "student['age']=25\n",
    "student['etat civil']='celibataire'\n",
    "student['competences']='mathematecienne&informaticienne'\n",
    "student['pays']='SENRGAL'\n",
    "student['ville']='Joal'\n",
    "student['adresse']='Santhie3'\n",
    "print('\\n''Le dictionnaire du student est:',student)\n",
    "print('\\n'\"La longueur du dictionnaire student est:\",len(student))\n",
    "n=student['competences']\n",
    "print('\\n'\"La valeur de competences est:\",n)\n",
    "type(n)\n",
    "student['competences']='vendeuse'\n",
    "print(student['competences'])\n",
    "print(\"Les cles du dictionnaire sont:\",list(student.keys()))\n",
    "print('\\n'\"les valeurs du dictionnaire sous forme de liste:\", list(student.values()))\n",
    "student.items()\n",
    "del student['age']\n",
    "print('\\n'\"Apres suppression de age student =[\",student,\"]\")\n",
    "del dog\n",
    "print('\\n'\"dog n'existe plus\")"
   ]
  },
  {
   "cell_type": "code",
   "execution_count": null,
   "metadata": {
    "id": "rNdDqviE8p4l"
   },
   "outputs": [],
   "source": []
  },
  {
   "cell_type": "markdown",
   "metadata": {
    "id": "ugc1Itzb8p4l"
   },
   "source": [
    "<center> <b> <span style=\"color:orange;\"> 🎉 FÉLICITATIONS ! / CONGRATULATIONS !🎉 </span> </b></center>"
   ]
  }
 ],
 "metadata": {
  "colab": {
   "name": "Exercices_02_Objets-itérables-ou-conteneurs.ipynb",
   "provenance": []
  },
  "kernelspec": {
   "display_name": "Python 3",
   "language": "python",
   "name": "python3"
  },
  "language_info": {
   "codemirror_mode": {
    "name": "ipython",
    "version": 3
   },
   "file_extension": ".py",
   "mimetype": "text/x-python",
   "name": "python",
   "nbconvert_exporter": "python",
   "pygments_lexer": "ipython3",
   "version": "3.6.9"
  }
 },
 "nbformat": 4,
 "nbformat_minor": 1
}
